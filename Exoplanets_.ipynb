{
  "nbformat": 4,
  "nbformat_minor": 0,
  "metadata": {
    "colab": {
      "provenance": []
    },
    "kernelspec": {
      "name": "python3",
      "display_name": "Python 3"
    },
    "language_info": {
      "name": "python"
    }
  },
  "cells": [
    {
      "cell_type": "markdown",
      "source": [
        "#Exoplanets Hunting with Machine Learning"
      ],
      "metadata": {
        "id": "n0a5qTE0LRBM"
      }
    },
    {
      "cell_type": "markdown",
      "source": [
        " An exoplanet is any planet beyond our solar system. They are detected by astronomers by observing the intensity of their parent starts.\n",
        "\n",
        " Exoplanetsare made up of elements similar to those of the planets in our solar system, but their mixes of those elements may differ.\n",
        "\n",
        " Exoplanets come in a wide variety pf sizes, from gas giants larger than jupiter to small, rocky planets about as big around as Earth ot Mars.\n",
        "\n"
      ],
      "metadata": {
        "id": "eGvNtY0vOJsG"
      }
    },
    {
      "cell_type": "markdown",
      "source": [
        "**History**\n",
        "\n",
        "` 1. Early claims to have detected exoplanets were made in the 19th century, notably by William Jacob.`\n",
        "\n",
        "`2. In 1855, William saw deviations in the orrbits within the nearby 70 ophiuchi binary start system.`\n",
        "\n",
        "`3. The first time we actually detected an exoplanet was in 1917 NASA's JPL but wasn't confirmed.`"
      ],
      "metadata": {
        "id": "hamPPOQQPCCe"
      }
    },
    {
      "cell_type": "code",
      "source": [],
      "metadata": {
        "id": "kW9z2GB6QhMO"
      },
      "execution_count": null,
      "outputs": []
    }
  ]
}